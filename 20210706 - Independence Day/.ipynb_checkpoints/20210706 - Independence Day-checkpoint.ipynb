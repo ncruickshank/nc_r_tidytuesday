{
 "cells": [
  {
   "cell_type": "markdown",
   "metadata": {},
   "source": [
    "# TidyTuesday 20210706 - Independence Day "
   ]
  },
  {
   "cell_type": "markdown",
   "metadata": {},
   "source": [
    "![image](https://www.morriscountynj.gov/files/sharedassets/public/main-site/newsarchive-media/2018/fireworks-designecologist-2.jpg?dimension=pageimagefullwidth&w=1140)"
   ]
  },
  {
   "cell_type": "markdown",
   "metadata": {},
   "source": [
    "## Introduction"
   ]
  },
  {
   "cell_type": "markdown",
   "metadata": {},
   "source": [
    "This week in [Tidy Tuesday](https://github.com/rfordatascience/tidytuesday/tree/master/data/2021/2021-07-06) the data comes from [Wikipedia](https://en.wikipedia.org/wiki/List_of_national_independence_days). The dataset lists each countries independence day, and where they gained independence from."
   ]
  },
  {
   "cell_type": "markdown",
   "metadata": {},
   "source": [
    "> An independence day is an annual event commemorating the anniversary of a nation's independence or statehood, usually after ceasing to be a group or part of another nation or state, or more rarely after the end of a military occupation. Many countries commemorate their independence from a colonial empire. American political commentator Walter Russell Mead notes that, \"World-wide, British Leaving Day is never out of season."
   ]
  },
  {
   "cell_type": "markdown",
   "metadata": {},
   "source": [
    "## Load Libraries and Data"
   ]
  },
  {
   "cell_type": "code",
   "execution_count": 1,
   "metadata": {},
   "outputs": [],
   "source": [
    "# libraries\n",
    "import numpy as np\n",
    "import pandas as pd \n",
    "import matplotlib.pyplot as plt\n",
    "%matplotlib inline\n",
    "\n",
    "import re\n",
    "from math import floor"
   ]
  },
  {
   "cell_type": "code",
   "execution_count": 2,
   "metadata": {},
   "outputs": [
    {
     "name": "stdout",
     "output_type": "stream",
     "text": [
      "Shape of dataframe (rows, columns):  (216, 12)\n"
     ]
    },
    {
     "data": {
      "text/html": [
       "<div>\n",
       "<style scoped>\n",
       "    .dataframe tbody tr th:only-of-type {\n",
       "        vertical-align: middle;\n",
       "    }\n",
       "\n",
       "    .dataframe tbody tr th {\n",
       "        vertical-align: top;\n",
       "    }\n",
       "\n",
       "    .dataframe thead th {\n",
       "        text-align: right;\n",
       "    }\n",
       "</style>\n",
       "<table border=\"1\" class=\"dataframe\">\n",
       "  <thead>\n",
       "    <tr style=\"text-align: right;\">\n",
       "      <th></th>\n",
       "      <th>country</th>\n",
       "      <th>date_parsed</th>\n",
       "      <th>weekday</th>\n",
       "      <th>day</th>\n",
       "      <th>month</th>\n",
       "      <th>name_of_holiday</th>\n",
       "      <th>date_of_holiday</th>\n",
       "      <th>year_of_event</th>\n",
       "      <th>independence_from</th>\n",
       "      <th>event_commemorated_and_notes</th>\n",
       "      <th>year</th>\n",
       "      <th>date_mdy</th>\n",
       "    </tr>\n",
       "  </thead>\n",
       "  <tbody>\n",
       "    <tr>\n",
       "      <th>0</th>\n",
       "      <td>Afghanistan</td>\n",
       "      <td>1919-08-19</td>\n",
       "      <td>Tuesday</td>\n",
       "      <td>19.0</td>\n",
       "      <td>Aug</td>\n",
       "      <td>Afghan Independence Day (Afghan Victory Day)</td>\n",
       "      <td>August 19</td>\n",
       "      <td>1919.0</td>\n",
       "      <td>United Kingdom</td>\n",
       "      <td>Anglo-Afghan Treaty of 1919 or Treaty of Rawal...</td>\n",
       "      <td>1919.0</td>\n",
       "      <td>August 19, 1919</td>\n",
       "    </tr>\n",
       "    <tr>\n",
       "      <th>1</th>\n",
       "      <td>Albania</td>\n",
       "      <td>1912-11-28</td>\n",
       "      <td>Thursday</td>\n",
       "      <td>28.0</td>\n",
       "      <td>Nov</td>\n",
       "      <td>Flag Day (Dita e Flamurit)</td>\n",
       "      <td>November 28</td>\n",
       "      <td>1912.0</td>\n",
       "      <td>Ottoman Empire</td>\n",
       "      <td>Albanian Declaration of Independence. The foll...</td>\n",
       "      <td>1912.0</td>\n",
       "      <td>November 28, 1912</td>\n",
       "    </tr>\n",
       "    <tr>\n",
       "      <th>2</th>\n",
       "      <td>Algeria</td>\n",
       "      <td>1962-07-05</td>\n",
       "      <td>Thursday</td>\n",
       "      <td>5.0</td>\n",
       "      <td>Jul</td>\n",
       "      <td>Independence Day</td>\n",
       "      <td>July 5</td>\n",
       "      <td>1962.0</td>\n",
       "      <td>France</td>\n",
       "      <td>Algeria gained independence following the Alge...</td>\n",
       "      <td>1962.0</td>\n",
       "      <td>July 5, 1962</td>\n",
       "    </tr>\n",
       "    <tr>\n",
       "      <th>3</th>\n",
       "      <td>Andorra</td>\n",
       "      <td>NaN</td>\n",
       "      <td>NaN</td>\n",
       "      <td>NaN</td>\n",
       "      <td>NaN</td>\n",
       "      <td>None</td>\n",
       "      <td>NaN</td>\n",
       "      <td>NaN</td>\n",
       "      <td>NaN</td>\n",
       "      <td>NaN</td>\n",
       "      <td>NaN</td>\n",
       "      <td>NaN</td>\n",
       "    </tr>\n",
       "    <tr>\n",
       "      <th>4</th>\n",
       "      <td>Angola</td>\n",
       "      <td>1975-11-11</td>\n",
       "      <td>Tuesday</td>\n",
       "      <td>11.0</td>\n",
       "      <td>Nov</td>\n",
       "      <td>Independence Day</td>\n",
       "      <td>November 11</td>\n",
       "      <td>1975.0</td>\n",
       "      <td>Portugal</td>\n",
       "      <td>The Alvor Agreement, signed on 15 January 1975...</td>\n",
       "      <td>1975.0</td>\n",
       "      <td>November 11, 1975</td>\n",
       "    </tr>\n",
       "  </tbody>\n",
       "</table>\n",
       "</div>"
      ],
      "text/plain": [
       "       country date_parsed   weekday   day month  \\\n",
       "0  Afghanistan  1919-08-19   Tuesday  19.0   Aug   \n",
       "1      Albania  1912-11-28  Thursday  28.0   Nov   \n",
       "2      Algeria  1962-07-05  Thursday   5.0   Jul   \n",
       "3      Andorra         NaN       NaN   NaN   NaN   \n",
       "4       Angola  1975-11-11   Tuesday  11.0   Nov   \n",
       "\n",
       "                                name_of_holiday date_of_holiday  \\\n",
       "0  Afghan Independence Day (Afghan Victory Day)       August 19   \n",
       "1                    Flag Day (Dita e Flamurit)     November 28   \n",
       "2                              Independence Day          July 5   \n",
       "3                                          None             NaN   \n",
       "4                              Independence Day     November 11   \n",
       "\n",
       "   year_of_event independence_from  \\\n",
       "0         1919.0    United Kingdom   \n",
       "1         1912.0    Ottoman Empire   \n",
       "2         1962.0            France   \n",
       "3            NaN               NaN   \n",
       "4         1975.0          Portugal   \n",
       "\n",
       "                        event_commemorated_and_notes    year  \\\n",
       "0  Anglo-Afghan Treaty of 1919 or Treaty of Rawal...  1919.0   \n",
       "1  Albanian Declaration of Independence. The foll...  1912.0   \n",
       "2  Algeria gained independence following the Alge...  1962.0   \n",
       "3                                                NaN     NaN   \n",
       "4  The Alvor Agreement, signed on 15 January 1975...  1975.0   \n",
       "\n",
       "            date_mdy  \n",
       "0    August 19, 1919  \n",
       "1  November 28, 1912  \n",
       "2       July 5, 1962  \n",
       "3                NaN  \n",
       "4  November 11, 1975  "
      ]
     },
     "execution_count": 2,
     "metadata": {},
     "output_type": "execute_result"
    }
   ],
   "source": [
    "# data\n",
    "holidays = pd.read_csv('https://raw.githubusercontent.com/rfordatascience/tidytuesday/master/data/2021/2021-07-06/holidays.csv')\n",
    "print(\"Shape of dataframe (rows, columns): \", holidays.shape)\n",
    "holidays.head()"
   ]
  },
  {
   "cell_type": "markdown",
   "metadata": {},
   "source": [
    "## Exploratory Data Analysis"
   ]
  },
  {
   "cell_type": "code",
   "execution_count": 3,
   "metadata": {},
   "outputs": [
    {
     "data": {
      "text/html": [
       "<div>\n",
       "<style scoped>\n",
       "    .dataframe tbody tr th:only-of-type {\n",
       "        vertical-align: middle;\n",
       "    }\n",
       "\n",
       "    .dataframe tbody tr th {\n",
       "        vertical-align: top;\n",
       "    }\n",
       "\n",
       "    .dataframe thead th {\n",
       "        text-align: right;\n",
       "    }\n",
       "</style>\n",
       "<table border=\"1\" class=\"dataframe\">\n",
       "  <thead>\n",
       "    <tr style=\"text-align: right;\">\n",
       "      <th></th>\n",
       "      <th>independence_from</th>\n",
       "      <th>count</th>\n",
       "    </tr>\n",
       "  </thead>\n",
       "  <tbody>\n",
       "    <tr>\n",
       "      <th>42</th>\n",
       "      <td>United Kingdom</td>\n",
       "      <td>51</td>\n",
       "    </tr>\n",
       "    <tr>\n",
       "      <th>13</th>\n",
       "      <td>France</td>\n",
       "      <td>26</td>\n",
       "    </tr>\n",
       "    <tr>\n",
       "      <th>38</th>\n",
       "      <td>Spanish Empire</td>\n",
       "      <td>17</td>\n",
       "    </tr>\n",
       "    <tr>\n",
       "      <th>34</th>\n",
       "      <td>Soviet Union</td>\n",
       "      <td>11</td>\n",
       "    </tr>\n",
       "    <tr>\n",
       "      <th>26</th>\n",
       "      <td>Portugal</td>\n",
       "      <td>7</td>\n",
       "    </tr>\n",
       "  </tbody>\n",
       "</table>\n",
       "</div>"
      ],
      "text/plain": [
       "   independence_from  count\n",
       "42    United Kingdom     51\n",
       "13            France     26\n",
       "38    Spanish Empire     17\n",
       "34      Soviet Union     11\n",
       "26          Portugal      7"
      ]
     },
     "execution_count": 3,
     "metadata": {},
     "output_type": "execute_result"
    }
   ],
   "source": [
    "holidays.groupby('independence_from').size()\\\n",
    "    .reset_index(name = 'count').sort_values(by = 'count', ascending = False)\\\n",
    "    .head()"
   ]
  },
  {
   "cell_type": "markdown",
   "metadata": {},
   "source": [
    "## Tidy Dataset"
   ]
  },
  {
   "cell_type": "code",
   "execution_count": 4,
   "metadata": {},
   "outputs": [
    {
     "name": "stdout",
     "output_type": "stream",
     "text": [
      "Top 5 countries from which independence was claimed\n",
      "\n"
     ]
    },
    {
     "data": {
      "text/html": [
       "<div>\n",
       "<style scoped>\n",
       "    .dataframe tbody tr th:only-of-type {\n",
       "        vertical-align: middle;\n",
       "    }\n",
       "\n",
       "    .dataframe tbody tr th {\n",
       "        vertical-align: top;\n",
       "    }\n",
       "\n",
       "    .dataframe thead th {\n",
       "        text-align: right;\n",
       "    }\n",
       "</style>\n",
       "<table border=\"1\" class=\"dataframe\">\n",
       "  <thead>\n",
       "    <tr style=\"text-align: right;\">\n",
       "      <th></th>\n",
       "      <th>independence_from</th>\n",
       "      <th>count</th>\n",
       "    </tr>\n",
       "  </thead>\n",
       "  <tbody>\n",
       "    <tr>\n",
       "      <th>33</th>\n",
       "      <td>United Kingdom</td>\n",
       "      <td>58</td>\n",
       "    </tr>\n",
       "    <tr>\n",
       "      <th>10</th>\n",
       "      <td>France</td>\n",
       "      <td>26</td>\n",
       "    </tr>\n",
       "    <tr>\n",
       "      <th>29</th>\n",
       "      <td>Spain</td>\n",
       "      <td>21</td>\n",
       "    </tr>\n",
       "    <tr>\n",
       "      <th>26</th>\n",
       "      <td>Soviet Union</td>\n",
       "      <td>11</td>\n",
       "    </tr>\n",
       "    <tr>\n",
       "      <th>23</th>\n",
       "      <td>Russia</td>\n",
       "      <td>9</td>\n",
       "    </tr>\n",
       "  </tbody>\n",
       "</table>\n",
       "</div>"
      ],
      "text/plain": [
       "   independence_from  count\n",
       "33    United Kingdom     58\n",
       "10            France     26\n",
       "29             Spain     21\n",
       "26      Soviet Union     11\n",
       "23            Russia      9"
      ]
     },
     "execution_count": 4,
     "metadata": {},
     "output_type": "execute_result"
    }
   ],
   "source": [
    "# clean 'independence_from' column\n",
    "\n",
    "## remove bracketed numbers\n",
    "holidays['independence_from'] = holidays['independence_from'].replace(r'\\[[0-9]{2}\\]', '')\n",
    "\n",
    "## remove nan with 'None'\n",
    "holidays['independence_from'] = holidays['independence_from'].replace(np.nan, 'None')\n",
    "\n",
    "## consolidate instances of United Kingdom\n",
    "holidays['independence_from'] = holidays['independence_from'].replace('United Kingdom of Great Britain and Ireland', 'United Kingdom')\n",
    "holidays['independence_from'] = holidays['independence_from'].replace('Kingdom of Great Britain', 'United Kingdom')\n",
    "holidays['independence_from'] = holidays['independence_from'].replace('United Kingdom and the British Mandate for Palestine', 'United Kingdom')\n",
    "holidays['independence_from'] = holidays['independence_from'].replace('Australia, New Zealand and the United Kingdom', 'United Kingdom')\n",
    "holidays['independence_from'] = holidays['independence_from'].replace('Allied occupying powers (France, United Kingdom, United States and Soviet Union)', 'United Kingdom')\n",
    "holidays['independence_from'] = holidays['independence_from'].replace('Italy and United Kingdom', 'United Kingdom')\n",
    "holidays['independence_from'] = holidays['independence_from'].replace('Egypt and the United Kingdom', 'United Kingdom')\n",
    "\n",
    "## consolidate instances of Russia\n",
    "### note Soviet Union != Russia\n",
    "holidays['independence_from'] = holidays['independence_from'].replace('Russian Soviet Federative Socialist Republic', 'Russia')\n",
    "holidays['independence_from'] = holidays['independence_from'].replace('Russian Soviet Federative Socialist Republic and German Empire', 'Russia')\n",
    "\n",
    "## consolidate instances of Soviet Union\n",
    "\n",
    "## consolidate instances of Spain\n",
    "holidays['independence_from'] = holidays['independence_from'].replace('Spanish Empire', 'Spain')\n",
    "\n",
    "## consolidate instances of Yugoslavia\n",
    "holidays['independence_from'] = holidays['independence_from'].replace('Socialist Federal Republic of Yugoslavia', 'Yugoslavia')\n",
    "holidays['independence_from'] = holidays['independence_from'].replace('SFR Yugoslavia', 'Yugoslavia')\n",
    "\n",
    "# generate top five independence from list\n",
    "head_independence_from = holidays[holidays['independence_from'] != 'None']\\\n",
    "    .groupby('independence_from').size().reset_index(name = 'count')\\\n",
    "    .sort_values(by = 'count', ascending = False).head()\n",
    "head_independence_from_list = head_independence_from['independence_from'].tolist()\n",
    "\n",
    "print(\"Top 5 countries from which independence was claimed\\n\")\n",
    "head_independence_from"
   ]
  },
  {
   "cell_type": "markdown",
   "metadata": {},
   "source": [
    "## Present Data"
   ]
  },
  {
   "cell_type": "code",
   "execution_count": 5,
   "metadata": {},
   "outputs": [
    {
     "data": {
      "image/png": "[encoded data removed]",
      "text/plain": [
       "<Figure size 720x360 with 1 Axes>"
      ]
     },
     "metadata": {
      "needs_background": "light"
     },
     "output_type": "display_data"
    }
   ],
   "source": [
    "# top contributes from which independence was claimed\n",
    "plt.figure(figsize = (10,5))\n",
    "plt.bar(head_independence_from['independence_from'], head_independence_from['count'])\n",
    "plt.title('Top 5 countries from which independence was claimed')\n",
    "plt.ylabel('Number of countries');"
   ]
  },
  {
   "cell_type": "code",
   "execution_count": 6,
   "metadata": {},
   "outputs": [
    {
     "data": {
      "image/png": "[encoded data removed]",
      "text/plain": [
       "<Figure size 1440x360 with 1 Axes>"
      ]
     },
     "metadata": {
      "needs_background": "light"
     },
     "output_type": "display_data"
    }
   ],
   "source": [
    "holidays['former_sovereign'] = np.where(holidays['independence_from'].\n",
    "                                        isin(head_independence_from_list),\n",
    "                                        holidays['independence_from'],\n",
    "                                        'Other')\n",
    "holidays['year'] = holidays['year'].replace(np.nan, 0)\n",
    "#holidays['decade'] = (floor(holidays['year'] / 10) * 10)\n",
    "holidays['decade'] = (np.floor(holidays['year'] / 10) * 10) #.astype(int).astype(str)\n",
    "indie_years = holidays[holidays['decade'] != 0].groupby(['former_sovereign', 'decade']).size().\\\n",
    "    reset_index(name = 'count').sort_values(by = 'decade') #.set_index('year')\n",
    "\n",
    "plt.figure(figsize = (20,5))\n",
    "for country in indie_years['former_sovereign'].unique().tolist():\n",
    "    slice = indie_years[indie_years['former_sovereign'] == country].sort_values(by = 'decade')\n",
    "    plt.bar(slice['decade'], \n",
    "            slice['count'],\n",
    "            label = country, \n",
    "            width = 5)\n",
    "plt.legend()\n",
    "plt.title('Number of countries who gained independence each decade');"
   ]
  },
  {
   "cell_type": "markdown",
   "metadata": {},
   "source": [
    "I want to replace the legend in the top right with a subplot of the 'Top 5 Countries' bar chart."
   ]
  }
 ],
 "metadata": {
  "kernelspec": {
   "display_name": "Python 3",
   "language": "python",
   "name": "python3"
  },
  "language_info": {
   "codemirror_mode": {
    "name": "ipython",
    "version": 3
   },
   "file_extension": ".py",
   "mimetype": "text/x-python",
   "name": "python",
   "nbconvert_exporter": "python",
   "pygments_lexer": "ipython3",
   "version": "3.7.7"
  }
 },
 "nbformat": 4,
 "nbformat_minor": 4
}
