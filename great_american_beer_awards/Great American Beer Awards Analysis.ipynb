{
 "cells": [
  {
   "cell_type": "markdown",
   "metadata": {},
   "source": [
    "# Great American Beer Awards Analysis"
   ]
  },
  {
   "cell_type": "code",
   "execution_count": 1,
   "metadata": {},
   "outputs": [],
   "source": [
    "# import libraries\n",
    "import numpy as np\n",
    "import pandas as pd\n",
    "import matplotlib as mpl\n",
    "import plotly.express as px\n",
    "import warnings\n",
    "\n",
    "%matplotlib inline"
   ]
  },
  {
   "cell_type": "code",
   "execution_count": 2,
   "metadata": {},
   "outputs": [],
   "source": [
    "# load data\n",
    "df = pd.read_csv('beer_awards.csv')"
   ]
  },
  {
   "cell_type": "code",
   "execution_count": 3,
   "metadata": {
    "scrolled": true
   },
   "outputs": [
    {
     "data": {
      "text/html": [
       "<div>\n",
       "<style scoped>\n",
       "    .dataframe tbody tr th:only-of-type {\n",
       "        vertical-align: middle;\n",
       "    }\n",
       "\n",
       "    .dataframe tbody tr th {\n",
       "        vertical-align: top;\n",
       "    }\n",
       "\n",
       "    .dataframe thead th {\n",
       "        text-align: right;\n",
       "    }\n",
       "</style>\n",
       "<table border=\"1\" class=\"dataframe\">\n",
       "  <thead>\n",
       "    <tr style=\"text-align: right;\">\n",
       "      <th></th>\n",
       "      <th>Unnamed: 0</th>\n",
       "      <th>medal</th>\n",
       "      <th>beer_name</th>\n",
       "      <th>brewery</th>\n",
       "      <th>city</th>\n",
       "      <th>state</th>\n",
       "      <th>category</th>\n",
       "      <th>year</th>\n",
       "    </tr>\n",
       "  </thead>\n",
       "  <tbody>\n",
       "    <tr>\n",
       "      <th>0</th>\n",
       "      <td>1</td>\n",
       "      <td>Gold</td>\n",
       "      <td>Volksbier Vienna</td>\n",
       "      <td>Wibby Brewing</td>\n",
       "      <td>Longmont</td>\n",
       "      <td>CO</td>\n",
       "      <td>American Amber Lager</td>\n",
       "      <td>2020</td>\n",
       "    </tr>\n",
       "    <tr>\n",
       "      <th>1</th>\n",
       "      <td>2</td>\n",
       "      <td>Silver</td>\n",
       "      <td>Oktoberfest</td>\n",
       "      <td>Founders Brewing Co.</td>\n",
       "      <td>Grand Rapids</td>\n",
       "      <td>MI</td>\n",
       "      <td>American Amber Lager</td>\n",
       "      <td>2020</td>\n",
       "    </tr>\n",
       "    <tr>\n",
       "      <th>2</th>\n",
       "      <td>3</td>\n",
       "      <td>Bronze</td>\n",
       "      <td>Amber Lager</td>\n",
       "      <td>Skipping Rock Beer Co.</td>\n",
       "      <td>Staunton</td>\n",
       "      <td>VA</td>\n",
       "      <td>American Amber Lager</td>\n",
       "      <td>2020</td>\n",
       "    </tr>\n",
       "    <tr>\n",
       "      <th>3</th>\n",
       "      <td>4</td>\n",
       "      <td>Gold</td>\n",
       "      <td>Lager at World's End</td>\n",
       "      <td>Epidemic Ales</td>\n",
       "      <td>Concord</td>\n",
       "      <td>CA</td>\n",
       "      <td>American Lager</td>\n",
       "      <td>2020</td>\n",
       "    </tr>\n",
       "    <tr>\n",
       "      <th>4</th>\n",
       "      <td>5</td>\n",
       "      <td>Silver</td>\n",
       "      <td>Seismic Tremor</td>\n",
       "      <td>Seismic Brewing Co.</td>\n",
       "      <td>Santa Rosa</td>\n",
       "      <td>CA</td>\n",
       "      <td>American Lager</td>\n",
       "      <td>2020</td>\n",
       "    </tr>\n",
       "  </tbody>\n",
       "</table>\n",
       "</div>"
      ],
      "text/plain": [
       "   Unnamed: 0   medal             beer_name                 brewery  \\\n",
       "0           1    Gold      Volksbier Vienna           Wibby Brewing   \n",
       "1           2  Silver           Oktoberfest    Founders Brewing Co.   \n",
       "2           3  Bronze           Amber Lager  Skipping Rock Beer Co.   \n",
       "3           4    Gold  Lager at World's End           Epidemic Ales   \n",
       "4           5  Silver        Seismic Tremor     Seismic Brewing Co.   \n",
       "\n",
       "           city state              category  year  \n",
       "0      Longmont    CO  American Amber Lager  2020  \n",
       "1  Grand Rapids    MI  American Amber Lager  2020  \n",
       "2      Staunton    VA  American Amber Lager  2020  \n",
       "3       Concord    CA        American Lager  2020  \n",
       "4    Santa Rosa    CA        American Lager  2020  "
      ]
     },
     "execution_count": 3,
     "metadata": {},
     "output_type": "execute_result"
    }
   ],
   "source": [
    "df.head()"
   ]
  },
  {
   "cell_type": "markdown",
   "metadata": {},
   "source": [
    "Potentially find other dataframes from the internet which may inform how what qualities lead to a gold medal beer."
   ]
  },
  {
   "cell_type": "markdown",
   "metadata": {},
   "source": [
    "## Describe\n",
    "\n",
    "Provide brief descriptive analysis of the df. What's the shape? How many categories are there? How many years are represented? How many companies are represented?"
   ]
  },
  {
   "cell_type": "markdown",
   "metadata": {},
   "source": [
    "## Heatmaps\n",
    "\n",
    "Create a heatmap of America, showing which states have the greatest number of gold medals. Perhaps create a different heatmap for each category.  \n",
    "\n",
    "which cities and/or states have the most breweries?"
   ]
  },
  {
   "cell_type": "markdown",
   "metadata": {},
   "source": [
    "## Timeline\n",
    "\n",
    "Over the years, which categories have risen the most in popularity? This is partially dependent on how medals are assigned."
   ]
  }
 ],
 "metadata": {
  "kernelspec": {
   "display_name": "Python 3",
   "language": "python",
   "name": "python3"
  },
  "language_info": {
   "codemirror_mode": {
    "name": "ipython",
    "version": 3
   },
   "file_extension": ".py",
   "mimetype": "text/x-python",
   "name": "python",
   "nbconvert_exporter": "python",
   "pygments_lexer": "ipython3",
   "version": "3.7.7"
  }
 },
 "nbformat": 4,
 "nbformat_minor": 4
}
